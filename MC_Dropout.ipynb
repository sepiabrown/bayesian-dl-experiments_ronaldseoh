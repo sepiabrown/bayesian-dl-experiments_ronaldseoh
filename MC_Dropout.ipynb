{
 "cells": [
  {
   "cell_type": "markdown",
   "metadata": {
    "colab_type": "text",
    "id": "Bka_bK83VFHh"
   },
   "source": [
    "## Experiment Setup"
   ]
  },
  {
   "cell_type": "code",
   "execution_count": 1,
   "metadata": {},
   "outputs": [],
   "source": [
    "import sys\n",
    "sys.path.append(\"/home/sepiabrown/MS-Thesis/\")"
   ]
  },
  {
   "cell_type": "code",
   "execution_count": 2,
   "metadata": {
    "colab": {
     "base_uri": "https://localhost:8080/",
     "height": 592
    },
    "colab_type": "code",
    "executionInfo": {
     "elapsed": 32214,
     "status": "ok",
     "timestamp": 1575021332527,
     "user": {
      "displayName": "Ronald Seoh",
      "photoUrl": "",
      "userId": "10284188050297676522"
     },
     "user_tz": 300
    },
    "id": "pHbfpytEVFHu",
    "outputId": "7913f72d-859c-477f-90b8-6c37e04f5759"
   },
   "outputs": [],
   "source": [
    "import time\n",
    "import datetime\n",
    "import os\n",
    "import sys\n",
    "import itertools\n",
    "\n",
    "%load_ext autoreload\n",
    "%autoreload 2\n",
    "\n",
    "random_seed = 682"
   ]
  },
  {
   "cell_type": "code",
   "execution_count": 3,
   "metadata": {
    "colab": {
     "base_uri": "https://localhost:8080/",
     "height": 86
    },
    "colab_type": "code",
    "executionInfo": {
     "elapsed": 44842,
     "status": "ok",
     "timestamp": 1575021345196,
     "user": {
      "displayName": "Ronald Seoh",
      "photoUrl": "",
      "userId": "10284188050297676522"
     },
     "user_tz": 300
    },
    "id": "BOIqWi_wHSXi",
    "outputId": "b658d6b3-5990-4d42-f71e-f8cbff718437"
   },
   "outputs": [
    {
     "name": "stderr",
     "output_type": "stream",
     "text": [
      "/nix/store/a94hfbcj37fkwncciik0shqf8z8liljc-python3-3.9.11-env/lib/python3.9/site-packages/tqdm/auto.py:22: TqdmWarning: IProgress not found. Please update jupyter and ipywidgets. See https://ipywidgets.readthedocs.io/en/stable/user_install.html\n",
      "  from .autonotebook import tqdm as notebook_tqdm\n"
     ]
    }
   ],
   "source": [
    "import numpy as np\n",
    "import torch\n",
    "import pyro\n",
    "import matplotlib.pyplot as plt\n",
    "import tqdm\n",
    "from torch import nn, optim\n",
    "from torch.utils.data import random_split, DataLoader, RandomSampler\n",
    "import torchvision\n",
    "import torchvision.transforms as transforms\n",
    "from pyro.infer import SVI, Trace_ELBO, HMC, MCMC\n",
    "\n",
    "\n",
    "from MC_Dropout import models, datasets\n",
    "from MC_Dropout.models import utils\n",
    "\n",
    "\n",
    "%matplotlib inline\n",
    "\n",
    "\n",
    "use_cuda = True\n",
    "\n",
    "if use_cuda and torch.cuda.is_available():\n",
    "    torch_device = torch.device('cuda')\n",
    "\n",
    "    torch.backends.cudnn.deterministic = True\n",
    "    \n",
    "    \n",
    "    torch.backends.cudnn.benchmark = False\n",
    "    use_pin_memory = True \n",
    "\n",
    "    \n",
    "    print(\"CUDA Version: \" + str(torch.version.cuda))\n",
    "    print(\"cuDNN Version: \" + str(torch.backends.cudnn.version()))\n",
    "    print(\"CUDA Device Name: \" + str(torch.cuda.get_device_name()))\n",
    "    print(\"CUDA Capabilities: \"+ str(torch.cuda.get_device_capability()))\n",
    "else:\n",
    "    torch_device = torch.device('cpu')\n",
    "    use_pin_memory = False"
   ]
  },
  {
   "cell_type": "markdown",
   "metadata": {
    "colab_type": "text",
    "id": "XIFRoH3AcJZn"
   },
   "source": [
    "### Toy dataset settings"
   ]
  },
  {
   "cell_type": "code",
   "execution_count": 4,
   "metadata": {
    "colab": {},
    "colab_type": "code",
    "id": "g_pzGq1_cJZp"
   },
   "outputs": [],
   "source": [
    "\"\"\"\n",
    "Toy dataset generation based on the experiment from \n",
    "the Probabilstic Backpropagation paper (Hernandez-Lobato & Adams, 2015)\n",
    "\"\"\"\n",
    "\n",
    "\n",
    "dataset_toy_random_seed = 691\n",
    "\n",
    "\n",
    "dataset_toy_size = 20\n",
    "random_x = True\n",
    "\n",
    "\n",
    "dataset_toy_x_low = -4\n",
    "dataset_toy_x_high = 4\n",
    "\n",
    "\n",
    "dataset_toy_y_noise_mean = 0\n",
    "dataset_toy_y_noise_std = 9\n",
    "\n",
    "\n",
    "dataset_toy_more_noise_x_from=None\n",
    "dataset_toy_more_noise_x_to=dataset_toy_x_high\n",
    "dataset_toy_more_noise_y_from=50\n",
    "dataset_toy_more_noise_y_to=100"
   ]
  },
  {
   "cell_type": "markdown",
   "metadata": {
    "colab_type": "text",
    "id": "Kdi_LQ7sspvM"
   },
   "source": [
    "### MC dropout parameters"
   ]
  },
  {
   "cell_type": "code",
   "execution_count": 5,
   "metadata": {
    "colab": {},
    "colab_type": "code",
    "id": "0ys_GAWtHSX4"
   },
   "outputs": [
    {
     "name": "stdout",
     "output_type": "stream",
     "text": [
      "reg_strength = tensor(9.0000e-06, dtype=torch.float64)\n"
     ]
    }
   ],
   "source": [
    "\"\"\"\n",
    "MC Dropout related\n",
    "\"\"\"\n",
    "\n",
    "\n",
    "dropout_rate = 0.1\n",
    "\n",
    "\n",
    "length_scale = 0.01\n",
    "\n",
    "\n",
    "tau = 0.25\n",
    "\n",
    "\n",
    "reg_strength = utils.reg_strength(dropout_rate, length_scale, dataset_toy_size, tau)\n",
    "\n",
    "print('reg_strength = ' + str(reg_strength))\n",
    "\n",
    "\n",
    "n_epochs = 40000\n",
    "\n",
    "\n",
    "learning_rate = 0.001\n",
    "\n",
    "\n",
    "loss_function_type = 'log_gaussian_loss'\n",
    "\n",
    "\n",
    "learn_hetero_noise = True\n",
    "\n",
    "\n",
    "n_predictions = 1000"
   ]
  },
  {
   "cell_type": "markdown",
   "metadata": {
    "colab_type": "text",
    "id": "DNGDKiltsux3"
   },
   "source": [
    "### Directory path to save results"
   ]
  },
  {
   "cell_type": "code",
   "execution_count": 6,
   "metadata": {
    "colab": {},
    "colab_type": "code",
    "id": "9ysu9G0FHSX-"
   },
   "outputs": [],
   "source": [
    "\n",
    "test_start_time = datetime.datetime.today().strftime('%Y%m%d%H%M')\n",
    "\n",
    "\n",
    "test_results_path = os.path.join(\n",
    "    './test_results2',\n",
    "    'comparison_toy',\n",
    "    (\n",
    "        test_start_time \n",
    "        + '_' + str(n_epochs) \n",
    "        + '_' + str(dropout_rate) \n",
    "        + '_' + str(length_scale)\n",
    "        + '_' + str(tau)\n",
    "        + '_' + str(loss_function_type) \n",
    "        + '_' + str(n_predictions))\n",
    ")\n",
    "\n",
    "\n",
    "os.makedirs(test_results_path, exist_ok=True)"
   ]
  },
  {
   "cell_type": "markdown",
   "metadata": {
    "colab_type": "text",
    "id": "sZwe_f-yVFIf"
   },
   "source": [
    "## Prepare data"
   ]
  },
  {
   "cell_type": "code",
   "execution_count": 7,
   "metadata": {
    "colab": {
     "base_uri": "https://localhost:8080/",
     "height": 34
    },
    "colab_type": "code",
    "executionInfo": {
     "elapsed": 51278,
     "status": "ok",
     "timestamp": 1575021351670,
     "user": {
      "displayName": "Ronald Seoh",
      "photoUrl": "",
      "userId": "10284188050297676522"
     },
     "user_tz": 300
    },
    "id": "5u5qU-9JVFIr",
    "outputId": "480ccb60-6d74-46ec-dc61-e7689ebdb300"
   },
   "outputs": [
    {
     "name": "stdout",
     "output_type": "stream",
     "text": [
      "dataset size = (20, 1)\n"
     ]
    }
   ],
   "source": [
    "dataset = datasets.ToyDatasets(\n",
    "    random_seed=dataset_toy_random_seed,\n",
    "    n_samples=dataset_toy_size,\n",
    "    x_low=dataset_toy_x_low,\n",
    "    x_high=dataset_toy_x_high,\n",
    "    random_x=random_x,\n",
    "    y_noise_mean=dataset_toy_y_noise_mean,\n",
    "    y_noise_std=dataset_toy_y_noise_std,\n",
    "    more_noise_x_from=dataset_toy_more_noise_x_from,\n",
    "    more_noise_x_to=dataset_toy_more_noise_x_to,\n",
    "    more_noise_y_from=dataset_toy_more_noise_y_from,\n",
    "    more_noise_y_to=dataset_toy_more_noise_y_to,\n",
    ")\n",
    "\n",
    "\n",
    "X_test = torch.linspace(dataset_toy_x_low-5, dataset_toy_x_high+5, 100).reshape(100, 1)\n",
    "y_test = torch.pow(X_test, 3)\n",
    "\n",
    "\n",
    "X_test = X_test.to(torch_device)\n",
    "y_test = y_test.to(torch_device)\n",
    "\n",
    "\n",
    "X_test_cpu = X_test.cpu()\n",
    "\n",
    "\n",
    "print(\"dataset size = \" + str((len(dataset), dataset.n_features)))"
   ]
  },
  {
   "cell_type": "markdown",
   "metadata": {
    "colab_type": "text",
    "id": "LaasFWpqVFJ1"
   },
   "source": [
    "## Declare models"
   ]
  },
  {
   "cell_type": "code",
   "execution_count": 8,
   "metadata": {
    "colab": {},
    "colab_type": "code",
    "id": "gAqkGtg7VFJ9"
   },
   "outputs": [],
   "source": [
    "uncertainty_methods = {}\n",
    "\n",
    "\n",
    "do_mc_dropout = True\n",
    "\n",
    "if do_mc_dropout:\n",
    "    uncertainty_methods['mc_dropout_relu'] = models.FCNet(\n",
    "        input_dim=dataset.n_features, \n",
    "        output_dim=dataset.n_targets,\n",
    "        hidden_dim=100,\n",
    "        n_hidden=0,\n",
    "        dropout_rate=dropout_rate,\n",
    "        dropout_type='bernoulli',\n",
    "        learn_hetero=learn_hetero_noise,\n",
    "    )\n",
    "\n",
    "do_vi = False\n",
    "\n",
    "if do_vi:\n",
    "    uncertainty_methods['vi'] = models.FCNetPyro(\n",
    "        input_dim=dataset.n_features, \n",
    "        output_dim=dataset.n_targets,\n",
    "        hidden_dim=100,\n",
    "        n_hidden=0,\n",
    "        torch_device=torch_device,\n",
    "    )\n",
    "\n",
    "\n",
    "do_hmc = False\n",
    "\n",
    "if do_hmc:\n",
    "    uncertainty_methods['hmc'] = models.FCNetPyro(\n",
    "        input_dim=dataset.n_features, \n",
    "        output_dim=dataset.n_targets,\n",
    "        hidden_dim=100,\n",
    "        n_hidden=0,\n",
    "        torch_device=torch_device,\n",
    "    )"
   ]
  },
  {
   "cell_type": "markdown",
   "metadata": {
    "colab_type": "text",
    "id": "1PpzPMI8VFKE"
   },
   "source": [
    "## Train the models"
   ]
  },
  {
   "cell_type": "markdown",
   "metadata": {
    "colab_type": "text",
    "id": "Jc7Td1h1VFKb"
   },
   "source": [
    "### Train/test the model"
   ]
  },
  {
   "cell_type": "code",
   "execution_count": 9,
   "metadata": {
    "colab": {
     "base_uri": "https://localhost:8080/",
     "height": 903
    },
    "colab_type": "code",
    "executionInfo": {
     "elapsed": 1213641,
     "status": "ok",
     "timestamp": 1575022514055,
     "user": {
      "displayName": "Ronald Seoh",
      "photoUrl": "",
      "userId": "10284188050297676522"
     },
     "user_tz": 300
    },
    "id": "m4kavCiTVFKf",
    "outputId": "6731cdaf-71b9-4709-fd78-45fb2b335a05"
   },
   "outputs": [
    {
     "name": "stdout",
     "output_type": "stream",
     "text": [
      "Now running mc_dropout_relu\n",
      "FCNet(\n",
      "  (input): ModuleDict(\n",
      "    (linear): Linear(in_features=1, out_features=100, bias=True)\n",
      "    (dropout): Dropout(p=0.1, inplace=False)\n",
      "    (nonlinear): ReLU()\n",
      "  )\n",
      "  (output_noise): Linear(in_features=100, out_features=1, bias=True)\n",
      "  (output): ModuleDict(\n",
      "    (linear): Linear(in_features=100, out_features=1, bias=True)\n",
      "    (dropout): Dropout(p=0.1, inplace=False)\n",
      "  )\n",
      ")\n",
      "\n"
     ]
    },
    {
     "name": "stderr",
     "output_type": "stream",
     "text": [
      "loss: 65.3430: 100%|█████████████████████████████████████████████████████████████████████████████████████████████████████████████████████████████████████████████████████████████████████████████████████| 40000/40000 [02:57<00:00, 224.89it/s]\n"
     ]
    },
    {
     "name": "stdout",
     "output_type": "stream",
     "text": [
      "final loss = tensor(65.3430, grad_fn=<NegBackward0>)\n",
      "training time = 177.87416219711304 seconds\n",
      "\n"
     ]
    }
   ],
   "source": [
    "for key, network in uncertainty_methods.items():\n",
    "    \n",
    "    torch.manual_seed(random_seed)\n",
    "    np.random.seed(random_seed)\n",
    "    pyro.set_rng_seed(random_seed)\n",
    "    \n",
    "    \n",
    "    print(\"Now running \" + str(key))\n",
    "    \n",
    "    \n",
    "    network.to(torch_device)\n",
    "\n",
    "    print(network)\n",
    "    print()\n",
    "\n",
    "    train_loader = DataLoader(dataset, batch_size=128)\n",
    "    \n",
    "\n",
    "    if isinstance(network, models.FCNet):\n",
    "        optimizer = torch.optim.Adam(\n",
    "            network.parameters(),\n",
    "            lr=learning_rate,\n",
    "            weight_decay=reg_strength, # L2 regularization\n",
    "        )\n",
    "\n",
    "    elif isinstance(network, models.FCNetPyro):\n",
    "        pyro.clear_param_store()\n",
    "\n",
    "        if use_cuda and torch.cuda.is_available():\n",
    "            torch.set_default_tensor_type(torch.cuda.FloatTensor)\n",
    "\n",
    "        if key == 'vi':\n",
    "            optimizer = pyro.optim.Adam({\"lr\": 0.01})\n",
    "            svi = SVI(network, network.guide, optimizer, loss=Trace_ELBO())\n",
    "        elif key == 'hmc':\n",
    "            kernel = HMC(network)\n",
    "            mcmc = MCMC(kernel, num_samples=10000)\n",
    "\n",
    "    network.train()\n",
    "\n",
    "    tic = time.time()\n",
    "    \n",
    "    if key == 'hmc':\n",
    "        dataset.data_x = dataset.data_x.to(torch_device)\n",
    "\n",
    "        dataset.data_y = dataset.data_y.to(torch_device)\n",
    "\n",
    "        mcmc.run(dataset.data_x, dataset.data_y)\n",
    "    else:\n",
    "        progress_bar = tqdm.tqdm(range(n_epochs))\n",
    "\n",
    "        for epoch in progress_bar:\n",
    "\n",
    "            for i, data in enumerate(train_loader):\n",
    "                inputs, targets = data\n",
    "\n",
    "                inputs = inputs.to(torch_device)\n",
    "                targets = targets.to(torch_device)\n",
    "\n",
    "                if isinstance(network, models.FCNet):\n",
    "                    optimizer.zero_grad()\n",
    "\n",
    "                    outputs, noises = network(inputs)\n",
    "\n",
    "                    if loss_function_type == 'mse_loss':\n",
    "                        total_loss = torch.nn.MSELoss()(outputs, targets)\n",
    "                    elif loss_function_type == 'log_gaussian_loss':\n",
    "                        total_loss = utils.log_gaussian_loss(outputs, targets, noises.exp())\n",
    "\n",
    "                    total_loss.backward()\n",
    "\n",
    "                    optimizer.step()\n",
    "\n",
    "                elif isinstance(network, models.FCNetPyro):\n",
    "                    pyro.clear_param_store()\n",
    "                    \n",
    "                    total_loss = svi.step(inputs, targets)\n",
    "\n",
    "            progress_bar.set_description(\"loss: %5.4f\" % total_loss)\n",
    "            \n",
    "    toc = time.time()\n",
    "\n",
    "    print(\"final loss = \" + str(total_loss))            \n",
    "\n",
    "    print(\"training time = \" + str(toc - tic) + \" seconds\")\n",
    "    \n",
    "    print()"
   ]
  },
  {
   "cell_type": "markdown",
   "metadata": {
    "colab_type": "text",
    "id": "xrknIU5UWv-v"
   },
   "source": [
    "## Plot"
   ]
  },
  {
   "cell_type": "code",
   "execution_count": 35,
   "metadata": {
    "colab": {
     "base_uri": "https://localhost:8080/",
     "height": 1000
    },
    "colab_type": "code",
    "executionInfo": {
     "elapsed": 20586,
     "status": "ok",
     "timestamp": 1575024185652,
     "user": {
      "displayName": "Ronald Seoh",
      "photoUrl": "",
      "userId": "10284188050297676522"
     },
     "user_tz": 300
    },
    "id": "ymmG2nxTHSYq",
    "outputId": "bad750f8-6180-4e17-8cfc-21b92fe8c524"
   },
   "outputs": [
    {
     "name": "stdout",
     "output_type": "stream",
     "text": [
      "testing time = 0.32800912857055664 seconds\n",
      "\n",
      "Mean = tensor([-1.4169e+02, -1.3893e+02, -1.3149e+02, -1.2908e+02, -1.2661e+02,\n",
      "        -1.2431e+02, -1.1969e+02, -1.1566e+02, -1.1381e+02, -1.0903e+02,\n",
      "        -1.0589e+02, -1.0061e+02, -9.8443e+01, -9.6579e+01, -9.1287e+01,\n",
      "        -8.6293e+01, -8.4017e+01, -7.9895e+01, -7.7086e+01, -7.3939e+01,\n",
      "        -7.1716e+01, -6.7733e+01, -6.3305e+01, -6.1401e+01, -5.7374e+01,\n",
      "        -5.3552e+01, -4.9497e+01, -4.5697e+01, -4.3914e+01, -4.0101e+01,\n",
      "        -3.6541e+01, -3.2522e+01, -2.9240e+01, -2.5800e+01, -2.2995e+01,\n",
      "        -1.9152e+01, -1.5575e+01, -1.2251e+01, -8.6816e+00, -5.3157e+00,\n",
      "        -3.0741e+00, -3.1369e+00, -3.2245e+00, -2.9537e+00, -2.4006e+00,\n",
      "        -1.8542e+00, -1.1993e+00, -6.4879e-01, -7.0997e-02,  4.9795e-01,\n",
      "         1.0777e+00,  1.6481e+00,  2.2454e+00,  2.5865e+00,  2.4902e+00,\n",
      "         2.4748e+00,  2.3993e+00,  2.3801e+00,  2.6530e+00,  3.2189e+00,\n",
      "         3.7987e+00,  4.3092e+00,  4.7866e+00,  5.2151e+00,  6.3583e+00,\n",
      "         1.0181e+01,  1.7498e+01,  2.5168e+01,  3.3289e+01,  4.1269e+01,\n",
      "         4.8593e+01,  5.4994e+01,  6.2571e+01,  6.9285e+01,  7.7791e+01,\n",
      "         8.5328e+01,  9.3723e+01,  9.9885e+01,  1.0671e+02,  1.1614e+02,\n",
      "         1.2458e+02,  1.2945e+02,  1.3868e+02,  1.4674e+02,  1.5372e+02,\n",
      "         1.5852e+02,  1.6657e+02,  1.7791e+02,  1.8437e+02,  1.9255e+02,\n",
      "         1.9840e+02,  2.0711e+02,  2.1817e+02,  2.2086e+02,  2.3095e+02,\n",
      "         2.3928e+02,  2.4461e+02,  2.5413e+02,  2.5996e+02,  2.6548e+02],\n",
      "       grad_fn=<ReshapeAliasBackward0>)\n",
      "Variance = tensor([2.1049e+03, 1.9945e+03, 2.3125e+03, 2.1302e+03, 1.8359e+03, 1.6149e+03,\n",
      "        1.6331e+03, 1.5598e+03, 1.3280e+03, 1.3452e+03, 1.2525e+03, 1.3340e+03,\n",
      "        1.1551e+03, 9.0755e+02, 1.0087e+03, 1.0312e+03, 8.7205e+02, 8.4887e+02,\n",
      "        7.1819e+02, 6.7792e+02, 5.2002e+02, 5.4283e+02, 5.2542e+02, 3.7956e+02,\n",
      "        3.6435e+02, 3.3210e+02, 3.1637e+02, 2.9401e+02, 1.9706e+02, 1.7559e+02,\n",
      "        1.5265e+02, 1.4145e+02, 1.0772e+02, 8.4916e+01, 5.1533e+01, 4.1328e+01,\n",
      "        3.0438e+01, 1.7620e+01, 9.6868e+00, 3.3206e+00, 1.3084e+00, 1.2244e+00,\n",
      "        9.9449e-01, 9.4684e-01, 6.1930e-01, 3.2136e-01, 2.1171e-01, 8.8456e-02,\n",
      "        4.2612e-02, 7.6801e-02, 2.0079e-01, 3.5528e-01, 6.2144e-01, 6.8352e-01,\n",
      "        8.1817e-01, 8.3008e-01, 9.2661e-01, 9.4117e-01, 1.1242e+00, 1.4553e+00,\n",
      "        1.8638e+00, 2.5404e+00, 3.2674e+00, 4.3171e+00, 5.8584e+00, 1.2980e+01,\n",
      "        4.0041e+01, 7.4775e+01, 1.1289e+02, 1.6297e+02, 2.4361e+02, 3.9784e+02,\n",
      "        4.9766e+02, 6.7048e+02, 7.5516e+02, 9.0742e+02, 9.7002e+02, 1.3597e+03,\n",
      "        1.5354e+03, 1.6673e+03, 1.7292e+03, 2.2790e+03, 2.3830e+03, 2.6223e+03,\n",
      "        2.9964e+03, 3.4241e+03, 3.7976e+03, 3.5283e+03, 4.0299e+03, 4.4510e+03,\n",
      "        4.7254e+03, 5.1980e+03, 4.9978e+03, 5.9984e+03, 6.0177e+03, 6.4016e+03,\n",
      "        7.4270e+03, 7.4741e+03, 7.9119e+03, 8.7445e+03],\n",
      "       grad_fn=<ReshapeAliasBackward0>)\n",
      "Noise = tensor([5.0599e+09, 2.9786e+09, 1.6232e+09, 1.0635e+09, 6.8636e+08, 2.8872e+08,\n",
      "        1.8999e+08, 1.2687e+08, 7.6351e+07, 4.0621e+07, 2.5785e+07, 1.2617e+07,\n",
      "        8.2330e+06, 4.4254e+06, 2.6670e+06, 1.4721e+06, 9.0476e+05, 5.9033e+05,\n",
      "        3.2377e+05, 1.9750e+05, 1.1296e+05, 6.5312e+04, 4.1738e+04, 2.5131e+04,\n",
      "        1.5102e+04, 8.2682e+03, 5.0535e+03, 3.0855e+03, 1.9376e+03, 1.1202e+03,\n",
      "        6.7688e+02, 4.0928e+02, 2.5282e+02, 1.4885e+02, 9.1145e+01, 5.5225e+01,\n",
      "        3.3820e+01, 2.0922e+01, 1.2754e+01, 7.8537e+00, 6.0588e+00, 6.5522e+00,\n",
      "        7.2890e+00, 8.9462e+00, 1.2243e+01, 1.7052e+01, 2.4191e+01, 3.3602e+01,\n",
      "        4.7664e+01, 6.6246e+01, 9.3037e+01, 1.3043e+02, 1.8384e+02, 2.0569e+02,\n",
      "        1.7371e+02, 1.5102e+02, 1.2951e+02, 1.1026e+02, 8.9838e+01, 7.1246e+01,\n",
      "        5.5183e+01, 4.3868e+01, 3.5143e+01, 2.8615e+01, 2.6030e+01, 3.1672e+01,\n",
      "        5.8602e+01, 1.1374e+02, 2.2257e+02, 4.2570e+02, 7.7549e+02, 1.6128e+03,\n",
      "        2.9820e+03, 6.1981e+03, 1.2292e+04, 2.5190e+04, 5.1375e+04, 9.1301e+04,\n",
      "        1.7897e+05, 3.9683e+05, 7.5640e+05, 1.5931e+06, 3.6922e+06, 7.2949e+06,\n",
      "        2.0302e+07, 2.6317e+07, 5.1845e+07, 1.2710e+08, 2.3971e+08, 6.6267e+08,\n",
      "        1.5289e+09, 3.1636e+09, 5.7613e+09, 2.8845e+10, 1.7048e+10, 6.5602e+10,\n",
      "        1.1642e+11, 1.6181e+11, 3.9848e+11, 1.6254e+12],\n",
      "       grad_fn=<ReshapeAliasBackward0>)\n",
      "rmse_mc = tensor(187.5822, grad_fn=<SqrtBackward0>)\n",
      "rmse_non_mc = tensor(187.7690, grad_fn=<SqrtBackward0>)\n",
      "test_ll_mc = tensor(-3326.7744, grad_fn=<MeanBackward0>)\n",
      "\n"
     ]
    },
    {
     "data": {
      "image/png": "[encoded data removed]",
      "text/plain": [
       "<Figure size 432x288 with 1 Axes>"
      ]
     },
     "metadata": {
      "needs_background": "light"
     },
     "output_type": "display_data"
    }
   ],
   "source": [
    "for key, network in uncertainty_methods.items():\n",
    "\n",
    "    network.eval()\n",
    "\n",
    "    tic_testing = time.time()\n",
    "    \n",
    "    predictions_non_mc, _ = network(X_test)\n",
    "\n",
    "    predictions, mean, var, noises, metrics = network.predict_dist(\n",
    "        X_test, n_predictions,\n",
    "        y_test=y_test,\n",
    "        tau=torch.tensor(tau, dtype=torch.float))\n",
    "    \n",
    "    toc_testing = time.time()\n",
    "\n",
    "    print(\"testing time = \" + str(toc_testing - tic_testing) + \" seconds\")\n",
    "\n",
    "    predictions_non_mc = predictions_non_mc.cpu()\n",
    "    predictions = predictions.cpu()\n",
    "    mean = mean.cpu()\n",
    "    var = var.cpu()\n",
    "    noises = noises.cpu()\n",
    "\n",
    "    total_uncertainty = var + noises\n",
    "\n",
    "    print()\n",
    "    print(\"Mean = \" + str(mean.flatten()))\n",
    "    print(\"Variance = \" + str(var.flatten()))\n",
    "    print(\"Noise = \" + str(noises.flatten()))\n",
    "    \n",
    "    if len(metrics) > 0:\n",
    "        for metric_key, value in metrics.items():\n",
    "            print(str(metric_key) + \" = \" + str(value))\n",
    "        print()\n",
    "            \n",
    "    plt.rc('font', family='D2Coding')\n",
    "    \n",
    "    plt.figure()\n",
    "    \n",
    "    plt.xlim(dataset_toy_x_low-1, dataset_toy_x_high+1)\n",
    "    \n",
    "    plot_ylim_low = dataset_toy_x_low ** 3 - 2 * dataset_toy_y_noise_std\n",
    "    plot_ylim_high = dataset_toy_x_high ** 3 + 2 * dataset_toy_y_noise_std\n",
    "    \n",
    "    plt.ylim(plot_ylim_low, plot_ylim_high)\n",
    "    \n",
    "    plt.fill_between(\n",
    "       X_test_cpu.flatten(), \n",
    "       (mean.detach().numpy() - 2*torch.sqrt(total_uncertainty).detach().numpy()).flatten(),\n",
    "       (mean.detach().numpy() + 2*torch.sqrt(total_uncertainty).detach().numpy()).flatten(),\n",
    "       color='lightblue', alpha=0.6, label=\"총 예측 불확실성\")\n",
    "    \n",
    "    plt.fill_between(\n",
    "        X_test_cpu.flatten(), \n",
    "        (mean.detach().numpy() - 2*torch.sqrt(var).detach().numpy()).flatten(),\n",
    "        (mean.detach().numpy() + 2*torch.sqrt(var).detach().numpy()).flatten(),\n",
    "        color='red', alpha=0.1, label=\"인식론적 불확실성\")\n",
    "\n",
    "    plt.plot(dataset.data_x.cpu(), dataset.data_y.cpu(), 'or', label='훈련 데이터', alpha=0.3)\n",
    "\n",
    "    plt.plot(X_test_cpu, predictions_non_mc.detach().numpy(), 'green', label='비 몬테카를로 예측', alpha=0.9)    \n",
    "    \n",
    "    plt.plot(X_test_cpu, mean.detach().numpy(), 'blue', label='평균 예측', alpha=0.7)\n",
    "    \n",
    "    plt.plot(X_test_cpu, X_test_cpu ** 3, 'gray', label='데이터 생성 함수')    \n",
    "    \n",
    "    plt.legend(loc=2, prop={'size': 8})\n",
    "    \n",
    "    plt.savefig(os.path.join(test_results_path, str(key) + '.png'), dpi=200)\n",
    "    \n",
    "    plt.show()"
   ]
  },
  {
   "cell_type": "code",
   "execution_count": null,
   "metadata": {},
   "outputs": [],
   "source": []
  }
 ],
 "metadata": {
  "accelerator": "GPU",
  "colab": {
   "collapsed_sections": [
    "Bka_bK83VFHh",
    "eEfdrHcOVFIj"
   ],
   "name": "experiment_comparison_toy.ipynb",
   "provenance": []
  },
  "kernelspec": {
   "display_name": "Python3 - ms-thesis--env",
   "language": "python",
   "name": "ipython_ms-thesis--env"
  },
  "language_info": {
   "codemirror_mode": {
    "name": "ipython",
    "version": 3
   },
   "file_extension": ".py",
   "mimetype": "text/x-python",
   "name": "python",
   "nbconvert_exporter": "python",
   "pygments_lexer": "ipython3",
   "version": "3.9.11"
  }
 },
 "nbformat": 4,
 "nbformat_minor": 4
}
