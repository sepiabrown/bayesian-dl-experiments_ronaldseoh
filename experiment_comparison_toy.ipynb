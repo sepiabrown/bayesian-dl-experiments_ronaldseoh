{
 "cells": [
  {
   "cell_type": "markdown",
   "metadata": {
    "colab_type": "text",
    "id": "Bka_bK83VFHh"
   },
   "source": [
    "## Experiment Setup"
   ]
  },
  {
   "cell_type": "code",
   "execution_count": 4,
   "metadata": {},
   "outputs": [],
   "source": [
    "import sys\n",
    "sys.path.append(\"/home/sepiabrown/MS-Thesis/\")"
   ]
  },
  {
   "cell_type": "markdown",
   "metadata": {
    "colab_type": "text",
    "id": "8D5NSPs_cJZe"
   },
   "source": [
    "###  Random seed / Colab / CUDA related"
   ]
  },
  {
   "cell_type": "code",
   "execution_count": 1,
   "metadata": {
    "colab": {
     "base_uri": "https://localhost:8080/",
     "height": 592
    },
    "colab_type": "code",
    "executionInfo": {
     "elapsed": 32214,
     "status": "ok",
     "timestamp": 1575021332527,
     "user": {
      "displayName": "Ronald Seoh",
      "photoUrl": "",
      "userId": "10284188050297676522"
     },
     "user_tz": 300
    },
    "id": "pHbfpytEVFHu",
    "outputId": "7913f72d-859c-477f-90b8-6c37e04f5759"
   },
   "outputs": [],
   "source": [
    "import time\n",
    "import datetime\n",
    "import os\n",
    "import sys\n",
    "import itertools\n",
    "\n",
    "# Use Google Colab\n",
    "use_colab = True\n",
    "\n",
    "# Is this notebook running on Colab?\n",
    "# If so, then google.colab package (github.com/googlecolab/colabtools)\n",
    "# should be available in this environment\n",
    "\n",
    "# Previous version used importlib, but we could do the same thing with\n",
    "# just attempting to import google.colab\n",
    "try:\n",
    "    from google.colab import drive\n",
    "    colab_available = True\n",
    "except:\n",
    "    colab_available = False\n",
    "\n",
    "if use_colab and colab_available:\n",
    "    drive.mount('/content/drive')\n",
    "    \n",
    "    # If there's a package I need to install separately, do it here\n",
    "    !pip install pyro-ppl\n",
    "    \n",
    "    # Install ronald_bdl package\n",
    "    !pip install git+https://github.com/ronaldseoh/ronald_bdl.git\n",
    "\n",
    "    # cd to the appropriate working directory under my Google Drive\n",
    "    %cd 'drive/My Drive/Colab Notebooks/bayesian-dl-experiments'\n",
    "    \n",
    "    # List the directory contents\n",
    "    !ls\n",
    "\n",
    "# IPython reloading magic\n",
    "%load_ext autoreload\n",
    "%autoreload 2\n",
    "\n",
    "# Random seeds\n",
    "# Based on https://pytorch.org/docs/stable/notes/randomness.html\n",
    "random_seed = 682"
   ]
  },
  {
   "cell_type": "markdown",
   "metadata": {
    "colab_type": "text",
    "id": "L8udq6NnHSXW"
   },
   "source": [
    "### Third party libraries (NumPy, PyTorch, Pyro)"
   ]
  },
  {
   "cell_type": "code",
   "execution_count": 2,
   "metadata": {
    "colab": {
     "base_uri": "https://localhost:8080/",
     "height": 104
    },
    "colab_type": "code",
    "executionInfo": {
     "elapsed": 35929,
     "status": "ok",
     "timestamp": 1575021336266,
     "user": {
      "displayName": "Ronald Seoh",
      "photoUrl": "",
      "userId": "10284188050297676522"
     },
     "user_tz": 300
    },
    "id": "BOJA1nXgHSXa",
    "outputId": "e2c1368a-d446-42c6-b971-155962116ceb"
   },
   "outputs": [
    {
     "name": "stderr",
     "output_type": "stream",
     "text": [
      "/nix/store/3gjfxfwp31mknyyy7qj1l1p65b4wsmp1-python3-3.9.10-env/lib/python3.9/site-packages/tqdm/auto.py:22: TqdmWarning: IProgress not found. Please update jupyter and ipywidgets. See https://ipywidgets.readthedocs.io/en/stable/user_install.html\n",
      "  from .autonotebook import tqdm as notebook_tqdm\n"
     ]
    },
    {
     "name": "stdout",
     "output_type": "stream",
     "text": [
      "Python Version: 3.9.10 (main, Jan 13 2022, 23:32:03) \n",
      "[GCC 10.3.0]\n",
      "NumPy Version: 1.22.3\n",
      "PyTorch Version: 1.11.0+cu102\n",
      "Pyro Version: 1.8.0\n"
     ]
    }
   ],
   "source": [
    "# Third party libraries import\n",
    "import numpy as np\n",
    "import torch\n",
    "import pyro\n",
    "import matplotlib.pyplot as plt\n",
    "import tqdm\n",
    "\n",
    "# Print version information\n",
    "print(\"Python Version: \" + sys.version)\n",
    "print(\"NumPy Version: \" + np.__version__)\n",
    "print(\"PyTorch Version: \" + torch.__version__)\n",
    "print(\"Pyro Version: \" + pyro.__version__)"
   ]
  },
  {
   "cell_type": "code",
   "execution_count": 4,
   "metadata": {
    "colab": {
     "base_uri": "https://localhost:8080/",
     "height": 86
    },
    "colab_type": "code",
    "executionInfo": {
     "elapsed": 44842,
     "status": "ok",
     "timestamp": 1575021345196,
     "user": {
      "displayName": "Ronald Seoh",
      "photoUrl": "",
      "userId": "10284188050297676522"
     },
     "user_tz": 300
    },
    "id": "BOIqWi_wHSXi",
    "outputId": "b658d6b3-5990-4d42-f71e-f8cbff718437"
   },
   "outputs": [
    {
     "ename": "ModuleNotFoundError",
     "evalue": "No module named 'torchvision.models.utilss'",
     "output_type": "error",
     "traceback": [
      "\u001b[0;31m---------------------------------------------------------------------------\u001b[0m",
      "\u001b[0;31mModuleNotFoundError\u001b[0m                       Traceback (most recent call last)",
      "Input \u001b[0;32mIn [4]\u001b[0m, in \u001b[0;36m<module>\u001b[0;34m\u001b[0m\n\u001b[1;32m      6\u001b[0m \u001b[38;5;28;01mfrom\u001b[39;00m \u001b[38;5;21;01mpyro\u001b[39;00m\u001b[38;5;21;01m.\u001b[39;00m\u001b[38;5;21;01minfer\u001b[39;00m \u001b[38;5;28;01mimport\u001b[39;00m SVI, Trace_ELBO, HMC, MCMC\n\u001b[1;32m      8\u001b[0m \u001b[38;5;66;03m# Import model and dataset classes from ronald_bdl\u001b[39;00m\n\u001b[0;32m----> 9\u001b[0m \u001b[38;5;28;01mfrom\u001b[39;00m \u001b[38;5;21;01mronald_bdl\u001b[39;00m \u001b[38;5;28;01mimport\u001b[39;00m models, datasets\n\u001b[1;32m     10\u001b[0m \u001b[38;5;28;01mfrom\u001b[39;00m \u001b[38;5;21;01mronald_bdl\u001b[39;00m\u001b[38;5;21;01m.\u001b[39;00m\u001b[38;5;21;01mmodels\u001b[39;00m \u001b[38;5;28;01mimport\u001b[39;00m utils\n\u001b[1;32m     12\u001b[0m \u001b[38;5;66;03m# pyplot setting\u001b[39;00m\n",
      "File \u001b[0;32m/nix/store/3gjfxfwp31mknyyy7qj1l1p65b4wsmp1-python3-3.9.10-env/lib/python3.9/site-packages/ronald_bdl/__init__.py:3\u001b[0m, in \u001b[0;36m<module>\u001b[0;34m\u001b[0m\n\u001b[1;32m      1\u001b[0m __all__ \u001b[38;5;241m=\u001b[39m [\u001b[38;5;124m'\u001b[39m\u001b[38;5;124mmodels\u001b[39m\u001b[38;5;124m'\u001b[39m, \u001b[38;5;124m'\u001b[39m\u001b[38;5;124mdatasets\u001b[39m\u001b[38;5;124m'\u001b[39m]\n\u001b[0;32m----> 3\u001b[0m \u001b[38;5;28;01mfrom\u001b[39;00m \u001b[38;5;21;01mronald_bdl\u001b[39;00m \u001b[38;5;28;01mimport\u001b[39;00m models\n\u001b[1;32m      4\u001b[0m \u001b[38;5;28;01mfrom\u001b[39;00m \u001b[38;5;21;01mronald_bdl\u001b[39;00m \u001b[38;5;28;01mimport\u001b[39;00m datasets\n",
      "File \u001b[0;32m/nix/store/3gjfxfwp31mknyyy7qj1l1p65b4wsmp1-python3-3.9.10-env/lib/python3.9/site-packages/ronald_bdl/models/__init__.py:3\u001b[0m, in \u001b[0;36m<module>\u001b[0;34m\u001b[0m\n\u001b[1;32m      1\u001b[0m \u001b[38;5;28;01mfrom\u001b[39;00m \u001b[38;5;21;01m.\u001b[39;00m\u001b[38;5;21;01mfcnet\u001b[39;00m \u001b[38;5;28;01mimport\u001b[39;00m FCNet\n\u001b[1;32m      2\u001b[0m \u001b[38;5;28;01mfrom\u001b[39;00m \u001b[38;5;21;01m.\u001b[39;00m\u001b[38;5;21;01mfcnet_pyro\u001b[39;00m \u001b[38;5;28;01mimport\u001b[39;00m FCNetPyro\n\u001b[0;32m----> 3\u001b[0m \u001b[38;5;28;01mfrom\u001b[39;00m \u001b[38;5;21;01m.\u001b[39;00m\u001b[38;5;21;01msqueezenet_original\u001b[39;00m \u001b[38;5;28;01mimport\u001b[39;00m SqueezeNet\n\u001b[1;32m      4\u001b[0m \u001b[38;5;28;01mfrom\u001b[39;00m \u001b[38;5;21;01m.\u001b[39;00m\u001b[38;5;21;01msqueezenet_dropout\u001b[39;00m \u001b[38;5;28;01mimport\u001b[39;00m SqueezeNetDropout\n\u001b[1;32m      5\u001b[0m \u001b[38;5;28;01mfrom\u001b[39;00m \u001b[38;5;21;01m.\u001b[39;00m\u001b[38;5;21;01msimple_cifar10\u001b[39;00m \u001b[38;5;28;01mimport\u001b[39;00m SimpleCIFAR10\n",
      "File \u001b[0;32m/nix/store/3gjfxfwp31mknyyy7qj1l1p65b4wsmp1-python3-3.9.10-env/lib/python3.9/site-packages/ronald_bdl/models/squeezenet_original.py:4\u001b[0m, in \u001b[0;36m<module>\u001b[0;34m\u001b[0m\n\u001b[1;32m      2\u001b[0m \u001b[38;5;28;01mfrom\u001b[39;00m \u001b[38;5;21;01mtorchvision\u001b[39;00m\u001b[38;5;21;01m.\u001b[39;00m\u001b[38;5;21;01mmodels\u001b[39;00m\u001b[38;5;21;01m.\u001b[39;00m\u001b[38;5;21;01msqueezenet\u001b[39;00m \u001b[38;5;28;01mimport\u001b[39;00m model_urls\n\u001b[1;32m      3\u001b[0m \u001b[38;5;66;03m#from torch.hub import load_state_dict_from_url\u001b[39;00m\n\u001b[0;32m----> 4\u001b[0m \u001b[38;5;28;01mfrom\u001b[39;00m \u001b[38;5;21;01mtorchvision\u001b[39;00m\u001b[38;5;21;01m.\u001b[39;00m\u001b[38;5;21;01mmodels\u001b[39;00m\u001b[38;5;21;01m.\u001b[39;00m\u001b[38;5;21;01mutilss\u001b[39;00m \u001b[38;5;28;01mimport\u001b[39;00m load_state_dict_from_url\n\u001b[1;32m      7\u001b[0m \u001b[38;5;28;01mclass\u001b[39;00m \u001b[38;5;21;01mSqueezeNet\u001b[39;00m(SqueezeNetTorchVision):\n\u001b[1;32m      8\u001b[0m     \u001b[38;5;28;01mdef\u001b[39;00m \u001b[38;5;21m__init__\u001b[39m(\u001b[38;5;28mself\u001b[39m, version\u001b[38;5;241m=\u001b[39m\u001b[38;5;124m'\u001b[39m\u001b[38;5;124m1_1\u001b[39m\u001b[38;5;124m'\u001b[39m):\n",
      "\u001b[0;31mModuleNotFoundError\u001b[0m: No module named 'torchvision.models.utilss'"
     ]
    }
   ],
   "source": [
    "# More imports...\n",
    "from torch import nn, optim\n",
    "from torch.utils.data import random_split, DataLoader, RandomSampler\n",
    "import torchvision\n",
    "import torchvision.transforms as transforms\n",
    "from pyro.infer import SVI, Trace_ELBO, HMC, MCMC\n",
    "\n",
    "# Import model and dataset classes from ronald_bdl\n",
    "from ronald_bdl import models, datasets\n",
    "from ronald_bdl.models import utils\n",
    "\n",
    "# pyplot setting\n",
    "%matplotlib inline\n",
    "\n",
    "# torch.device / CUDA Setup\n",
    "use_cuda = True\n",
    "\n",
    "if use_cuda and torch.cuda.is_available():\n",
    "    torch_device = torch.device('cuda')\n",
    "\n",
    "    torch.backends.cudnn.deterministic = True\n",
    "    # Disable 'benchmark' mode\n",
    "    # Note: https://discuss.pytorch.org/t/what-does-torch-backends-cudnn-benchmark-do/5936\n",
    "    torch.backends.cudnn.benchmark = False\n",
    "    use_pin_memory = True # Faster Host to GPU copies with page-locked memory\n",
    "\n",
    "    # CUDA libraries version information\n",
    "    print(\"CUDA Version: \" + str(torch.version.cuda))\n",
    "    print(\"cuDNN Version: \" + str(torch.backends.cudnn.version()))\n",
    "    print(\"CUDA Device Name: \" + str(torch.cuda.get_device_name()))\n",
    "    print(\"CUDA Capabilities: \"+ str(torch.cuda.get_device_capability()))\n",
    "else:\n",
    "    torch_device = torch.device('cpu')\n",
    "    use_pin_memory = False"
   ]
  },
  {
   "cell_type": "markdown",
   "metadata": {
    "colab_type": "text",
    "id": "XIFRoH3AcJZn"
   },
   "source": [
    "### Toy dataset settings"
   ]
  },
  {
   "cell_type": "code",
   "execution_count": 13,
   "metadata": {
    "colab": {},
    "colab_type": "code",
    "id": "g_pzGq1_cJZp"
   },
   "outputs": [],
   "source": [
    "\"\"\"\n",
    "Toy dataset generation based on the experiment from \n",
    "the Probabilstic Backpropagation paper (Hernandez-Lobato & Adams, 2015)\n",
    "\"\"\"\n",
    "\n",
    "# Random seed for toy dataset\n",
    "dataset_toy_random_seed = 691\n",
    "\n",
    "# Toy dataset size\n",
    "dataset_toy_size = 20\n",
    "random_x = True\n",
    "\n",
    "# Toy dataset x distribution (uniform) parameters\n",
    "dataset_toy_x_low = -4\n",
    "dataset_toy_x_high = 4\n",
    "\n",
    "# Toy dataset y noise distribution (normal noise)\n",
    "dataset_toy_y_noise_mean = 0\n",
    "dataset_toy_y_noise_std = 9\n",
    "\n",
    "# Toy dataset additional noise\n",
    "dataset_toy_more_noise_x_from=None\n",
    "dataset_toy_more_noise_x_to=dataset_toy_x_high\n",
    "dataset_toy_more_noise_y_from=50\n",
    "dataset_toy_more_noise_y_to=100"
   ]
  },
  {
   "cell_type": "markdown",
   "metadata": {
    "colab_type": "text",
    "id": "Kdi_LQ7sspvM"
   },
   "source": [
    "### MC dropout parameters"
   ]
  },
  {
   "cell_type": "code",
   "execution_count": 14,
   "metadata": {
    "colab": {},
    "colab_type": "code",
    "id": "0ys_GAWtHSX4"
   },
   "outputs": [
    {
     "name": "stdout",
     "output_type": "stream",
     "text": [
      "reg_strength = tensor(9.0000e-06, dtype=torch.float64)\n"
     ]
    }
   ],
   "source": [
    "\"\"\"\n",
    "MC Dropout related\n",
    "\"\"\"\n",
    "\n",
    "# Dropout rate\n",
    "dropout_rate = 0.1\n",
    "\n",
    "# Length scale\n",
    "length_scale = 0.01\n",
    "\n",
    "# tau\n",
    "tau = 0.25\n",
    "\n",
    "# reg strength\n",
    "reg_strength = utils.reg_strength(dropout_rate, length_scale, dataset_toy_size, tau)\n",
    "\n",
    "print('reg_strength = ' + str(reg_strength))\n",
    "\n",
    "# Epochs\n",
    "n_epochs = 40000\n",
    "\n",
    "# Optimizer learning rate\n",
    "learning_rate = 0.001\n",
    "\n",
    "# Loss function type\n",
    "loss_function_type = 'log_gaussian_loss'\n",
    "\n",
    "# Learn hetero noise?\n",
    "learn_hetero_noise = True\n",
    "\n",
    "# Number of test predictions (for each data point)\n",
    "n_predictions = 1000"
   ]
  },
  {
   "cell_type": "markdown",
   "metadata": {
    "colab_type": "text",
    "id": "DNGDKiltsux3"
   },
   "source": [
    "### Directory path to save results"
   ]
  },
  {
   "cell_type": "code",
   "execution_count": 15,
   "metadata": {
    "colab": {},
    "colab_type": "code",
    "id": "9ysu9G0FHSX-"
   },
   "outputs": [],
   "source": [
    "# Test start time\n",
    "test_start_time = datetime.datetime.today().strftime('%Y%m%d%H%M')\n",
    "\n",
    "# Directory to store the results for this experiment\n",
    "test_results_path = os.path.join(\n",
    "    './test_results2',\n",
    "    'comparison_toy',\n",
    "    (\n",
    "        test_start_time \n",
    "        + '_' + str(n_epochs) \n",
    "        + '_' + str(dropout_rate) \n",
    "        + '_' + str(length_scale)\n",
    "        + '_' + str(tau)\n",
    "        + '_' + str(loss_function_type) \n",
    "        + '_' + str(n_predictions))\n",
    ")\n",
    "\n",
    "# Create the directory if it doesn't exist\n",
    "os.makedirs(test_results_path, exist_ok=True)"
   ]
  },
  {
   "cell_type": "markdown",
   "metadata": {
    "colab_type": "text",
    "id": "sZwe_f-yVFIf"
   },
   "source": [
    "## Prepare data"
   ]
  },
  {
   "cell_type": "markdown",
   "metadata": {
    "colab_type": "text",
    "id": "eEfdrHcOVFIj"
   },
   "source": [
    "### Get the data as a torch Dataset object"
   ]
  },
  {
   "cell_type": "code",
   "execution_count": 16,
   "metadata": {
    "colab": {
     "base_uri": "https://localhost:8080/",
     "height": 34
    },
    "colab_type": "code",
    "executionInfo": {
     "elapsed": 51278,
     "status": "ok",
     "timestamp": 1575021351670,
     "user": {
      "displayName": "Ronald Seoh",
      "photoUrl": "",
      "userId": "10284188050297676522"
     },
     "user_tz": 300
    },
    "id": "5u5qU-9JVFIr",
    "outputId": "480ccb60-6d74-46ec-dc61-e7689ebdb300"
   },
   "outputs": [
    {
     "name": "stdout",
     "output_type": "stream",
     "text": [
      "dataset size = (20, 1)\n"
     ]
    }
   ],
   "source": [
    "dataset = datasets.ToyDatasets(\n",
    "    random_seed=dataset_toy_random_seed,\n",
    "    n_samples=dataset_toy_size,\n",
    "    x_low=dataset_toy_x_low,\n",
    "    x_high=dataset_toy_x_high,\n",
    "    random_x=random_x,\n",
    "    y_noise_mean=dataset_toy_y_noise_mean,\n",
    "    y_noise_std=dataset_toy_y_noise_std,\n",
    "    more_noise_x_from=dataset_toy_more_noise_x_from,\n",
    "    more_noise_x_to=dataset_toy_more_noise_x_to,\n",
    "    more_noise_y_from=dataset_toy_more_noise_y_from,\n",
    "    more_noise_y_to=dataset_toy_more_noise_y_to,\n",
    ")\n",
    "\n",
    "# Get the test data\n",
    "X_test = torch.linspace(dataset_toy_x_low-5, dataset_toy_x_high+5, 100).reshape(100, 1)\n",
    "y_test = torch.pow(X_test, 3)\n",
    "\n",
    "# Send it to the memory of the device to be used for training\n",
    "X_test = X_test.to(torch_device)\n",
    "y_test = y_test.to(torch_device)\n",
    "\n",
    "# Save a copy of X_test at CPU for plotting\n",
    "X_test_cpu = X_test.cpu()\n",
    "\n",
    "# Print the size of the training set\n",
    "print(\"dataset size = \" + str((len(dataset), dataset.n_features)))"
   ]
  },
  {
   "cell_type": "markdown",
   "metadata": {
    "colab_type": "text",
    "id": "LaasFWpqVFJ1"
   },
   "source": [
    "## Declare models"
   ]
  },
  {
   "cell_type": "code",
   "execution_count": 17,
   "metadata": {
    "colab": {},
    "colab_type": "code",
    "id": "gAqkGtg7VFJ9"
   },
   "outputs": [],
   "source": [
    "uncertainty_methods = {}\n",
    "\n",
    "# MC (Bernoulli) dropout\n",
    "do_mc_dropout = True\n",
    "\n",
    "if do_mc_dropout:\n",
    "    uncertainty_methods['mc_dropout_relu'] = models.FCNet(\n",
    "        input_dim=dataset.n_features, \n",
    "        output_dim=dataset.n_targets,\n",
    "        hidden_dim=100,\n",
    "        n_hidden=0,\n",
    "        dropout_rate=dropout_rate,\n",
    "        dropout_type='bernoulli',\n",
    "        learn_hetero=learn_hetero_noise,\n",
    "    )\n",
    "    \n",
    "#     uncertainty_methods['mc_dropout_tanh'] = models.FCNet(\n",
    "#         input_dim=dataset.n_features, \n",
    "#         output_dim=dataset.n_targets,\n",
    "#         hidden_dim=100,\n",
    "#         n_hidden=1,\n",
    "#         dropout_rate=dropout_rate,\n",
    "#         dropout_type='bernoulli',\n",
    "#         nonlinear_type='tanh',\n",
    "#         learn_hetero=learn_hetero_noise,\n",
    "#     )\n",
    "    \n",
    "#     uncertainty_methods['mc_dropout_sigmoid'] = models.FCNet(\n",
    "#         input_dim=dataset.n_features, \n",
    "#         output_dim=dataset.n_targets,\n",
    "#         hidden_dim=100,\n",
    "#         n_hidden=0,\n",
    "#         dropout_rate=dropout_rate,\n",
    "#         dropout_type='bernoulli',\n",
    "#         nonlinear_type='sigmoid',\n",
    "#         learn_hetero=True,\n",
    "#     )\n",
    "\n",
    "# Vanilla Variational Inference\n",
    "do_vi = False\n",
    "\n",
    "if do_vi:\n",
    "    uncertainty_methods['vi'] = models.FCNetPyro(\n",
    "        input_dim=dataset.n_features, \n",
    "        output_dim=dataset.n_targets,\n",
    "        hidden_dim=100,\n",
    "        n_hidden=0,\n",
    "        torch_device=torch_device,\n",
    "    )\n",
    "\n",
    "# HMC\n",
    "do_hmc = False\n",
    "\n",
    "if do_hmc:\n",
    "    uncertainty_methods['hmc'] = models.FCNetPyro(\n",
    "        input_dim=dataset.n_features, \n",
    "        output_dim=dataset.n_targets,\n",
    "        hidden_dim=100,\n",
    "        n_hidden=0,\n",
    "        torch_device=torch_device,\n",
    "    )"
   ]
  },
  {
   "cell_type": "markdown",
   "metadata": {
    "colab_type": "text",
    "id": "1PpzPMI8VFKE"
   },
   "source": [
    "## Train the models"
   ]
  },
  {
   "cell_type": "markdown",
   "metadata": {
    "colab_type": "text",
    "id": "Jc7Td1h1VFKb"
   },
   "source": [
    "### Train/test the model"
   ]
  },
  {
   "cell_type": "code",
   "execution_count": 18,
   "metadata": {
    "colab": {
     "base_uri": "https://localhost:8080/",
     "height": 903
    },
    "colab_type": "code",
    "executionInfo": {
     "elapsed": 1213641,
     "status": "ok",
     "timestamp": 1575022514055,
     "user": {
      "displayName": "Ronald Seoh",
      "photoUrl": "",
      "userId": "10284188050297676522"
     },
     "user_tz": 300
    },
    "id": "m4kavCiTVFKf",
    "outputId": "6731cdaf-71b9-4709-fd78-45fb2b335a05"
   },
   "outputs": [
    {
     "name": "stdout",
     "output_type": "stream",
     "text": [
      "Now running mc_dropout_relu\n",
      "FCNet(\n",
      "  (input): ModuleDict(\n",
      "    (linear): Linear(in_features=1, out_features=100, bias=True)\n",
      "    (dropout): Dropout(p=0.1, inplace=False)\n",
      "    (nonlinear): ReLU()\n",
      "  )\n",
      "  (output_noise): Linear(in_features=100, out_features=1, bias=True)\n",
      "  (output): ModuleDict(\n",
      "    (linear): Linear(in_features=100, out_features=1, bias=True)\n",
      "    (dropout): Dropout(p=0.1, inplace=False)\n",
      "  )\n",
      ")\n",
      "\n"
     ]
    },
    {
     "name": "stderr",
     "output_type": "stream",
     "text": [
      "loss: 65.4867: 100%|███████████████████████████████████████| 40000/40000 [03:23<00:00, 197.04it/s]\n"
     ]
    },
    {
     "name": "stdout",
     "output_type": "stream",
     "text": [
      "final loss = tensor(65.4867, grad_fn=<NegBackward0>)\n",
      "training time = 203.01636695861816 seconds\n",
      "\n"
     ]
    }
   ],
   "source": [
    "for key, network in uncertainty_methods.items():\n",
    "    # Reset the random number generator for each method (to produce identical results)\n",
    "    torch.manual_seed(random_seed)\n",
    "    np.random.seed(random_seed)\n",
    "    pyro.set_rng_seed(random_seed)\n",
    "    \n",
    "    # Print the method name\n",
    "    print(\"Now running \" + str(key))\n",
    "    \n",
    "    # Send the whole model to the selected torch.device\n",
    "    network.to(torch_device)\n",
    "\n",
    "    # Print the network structure\n",
    "    print(network)\n",
    "    print()\n",
    "\n",
    "    # Initialize training data loader\n",
    "    train_loader = DataLoader(dataset, batch_size=128)\n",
    "    \n",
    "    \"\"\"\n",
    "    Optimizer Setup\n",
    "    \"\"\"\n",
    "\n",
    "    if isinstance(network, models.FCNet):\n",
    "        # Adam optimizer\n",
    "        # https://pytorch.org/docs/stable/optim.html?highlight=adam#torch.optim.Adam\n",
    "        # NOTE: Need to set L2 regularization from here\n",
    "        optimizer = torch.optim.Adam(\n",
    "            network.parameters(),\n",
    "            lr=learning_rate,\n",
    "            weight_decay=reg_strength, # L2 regularization\n",
    "        )\n",
    "\n",
    "    elif isinstance(network, models.FCNetPyro):\n",
    "        # Clear everything in Pyro parameter storage\n",
    "        # Looks like this parameter store would be globally shared across\n",
    "        # models in the same Python instance.\n",
    "        pyro.clear_param_store()\n",
    "\n",
    "        # Force all the PyTorch tensors to be CUDA tensors if available\n",
    "        if use_cuda and torch.cuda.is_available():\n",
    "            torch.set_default_tensor_type(torch.cuda.FloatTensor)\n",
    "\n",
    "        # Different optimizers for VI and HMC\n",
    "        if key == 'vi':\n",
    "            optimizer = pyro.optim.Adam({\"lr\": 0.01})\n",
    "            svi = SVI(network, network.guide, optimizer, loss=Trace_ELBO())\n",
    "        elif key == 'hmc':\n",
    "            kernel = HMC(network)\n",
    "            mcmc = MCMC(kernel, num_samples=10000)\n",
    "\n",
    "    \"\"\"\n",
    "    Training\n",
    "    \"\"\"\n",
    "\n",
    "    # Model to train mode\n",
    "    network.train()\n",
    "\n",
    "    # Record training start time (for this method)\n",
    "    tic = time.time()\n",
    "    \n",
    "    if key == 'hmc':\n",
    "        # to() actually returns new Tensor; need to replace with that return\n",
    "        dataset.data_x = dataset.data_x.to(torch_device)\n",
    "\n",
    "        dataset.data_y = dataset.data_y.to(torch_device)\n",
    "\n",
    "        mcmc.run(dataset.data_x, dataset.data_y)\n",
    "    else:\n",
    "        progress_bar = tqdm.tqdm(range(n_epochs))\n",
    "\n",
    "        for epoch in progress_bar: # loop over the dataset multiple times\n",
    "\n",
    "            for i, data in enumerate(train_loader):\n",
    "                # get the inputs; data is a list of [inputs, labels]\n",
    "                inputs, targets = data\n",
    "\n",
    "                # Store the batch to torch_device's memory\n",
    "                # to() actually returns new Tensor; need to replace with that return\n",
    "                inputs = inputs.to(torch_device)\n",
    "                targets = targets.to(torch_device)\n",
    "\n",
    "                if isinstance(network, models.FCNet):\n",
    "                    # zero the parameter gradients\n",
    "                    optimizer.zero_grad()\n",
    "\n",
    "                    # forward + backward + optimize\n",
    "                    outputs, noises = network(inputs)\n",
    "\n",
    "                    # Mean Squared Error for loss function to minimize\n",
    "                    if loss_function_type == 'mse_loss':\n",
    "                        total_loss = torch.nn.MSELoss()(outputs, targets)\n",
    "                    elif loss_function_type == 'log_gaussian_loss':\n",
    "                        total_loss = utils.log_gaussian_loss(outputs, targets, noises.exp())\n",
    "\n",
    "                    total_loss.backward()\n",
    "\n",
    "                    optimizer.step()\n",
    "\n",
    "                elif isinstance(network, models.FCNetPyro):\n",
    "                    pyro.clear_param_store()\n",
    "                    # calculate the loss and take a gradient step\n",
    "                    total_loss = svi.step(inputs, targets)\n",
    "\n",
    "            progress_bar.set_description(\"loss: %5.4f\" % total_loss)\n",
    "            \n",
    "    # Record training end time\n",
    "    toc = time.time()\n",
    "\n",
    "    # Report the final loss\n",
    "    print(\"final loss = \" + str(total_loss))            \n",
    "\n",
    "    # Report the total training time\n",
    "    print(\"training time = \" + str(toc - tic) + \" seconds\")\n",
    "    \n",
    "    print()"
   ]
  },
  {
   "cell_type": "markdown",
   "metadata": {
    "colab_type": "text",
    "id": "xrknIU5UWv-v"
   },
   "source": [
    "## Plot the results"
   ]
  },
  {
   "cell_type": "code",
   "execution_count": 19,
   "metadata": {
    "colab": {
     "base_uri": "https://localhost:8080/",
     "height": 1000
    },
    "colab_type": "code",
    "executionInfo": {
     "elapsed": 20586,
     "status": "ok",
     "timestamp": 1575024185652,
     "user": {
      "displayName": "Ronald Seoh",
      "photoUrl": "",
      "userId": "10284188050297676522"
     },
     "user_tz": 300
    },
    "id": "ymmG2nxTHSYq",
    "outputId": "bad750f8-6180-4e17-8cfc-21b92fe8c524"
   },
   "outputs": [
    {
     "name": "stdout",
     "output_type": "stream",
     "text": [
      "testing time = 0.3896830081939697 seconds\n",
      "\n",
      "Mean = tensor([-1.5645e+02, -1.5445e+02, -1.4720e+02, -1.4487e+02, -1.4245e+02,\n",
      "        -1.3791e+02, -1.3471e+02, -1.2717e+02, -1.2726e+02, -1.2369e+02,\n",
      "        -1.1753e+02, -1.1397e+02, -1.0899e+02, -1.0364e+02, -9.9222e+01,\n",
      "        -9.8043e+01, -9.3539e+01, -8.8953e+01, -8.5843e+01, -8.2221e+01,\n",
      "        -7.7605e+01, -7.4856e+01, -6.9386e+01, -6.5702e+01, -6.0783e+01,\n",
      "        -5.7961e+01, -5.4063e+01, -4.9706e+01, -4.5643e+01, -4.2564e+01,\n",
      "        -3.8265e+01, -3.3783e+01, -2.9947e+01, -2.6308e+01, -2.2747e+01,\n",
      "        -1.8762e+01, -1.5278e+01, -1.1892e+01, -8.6252e+00, -5.1129e+00,\n",
      "        -3.1004e+00, -2.9191e+00, -2.8717e+00, -2.6518e+00, -2.1460e+00,\n",
      "        -1.6328e+00, -1.1199e+00, -6.1151e-01, -1.0142e-01,  4.1480e-01,\n",
      "         9.4393e-01,  1.4659e+00,  1.9620e+00,  2.1944e+00,  2.1779e+00,\n",
      "         2.1170e+00,  2.0577e+00,  2.0618e+00,  2.4136e+00,  3.2584e+00,\n",
      "         4.1581e+00,  5.0715e+00,  6.1099e+00,  7.0585e+00,  7.9886e+00,\n",
      "         9.8725e+00,  1.7264e+01,  2.5118e+01,  3.2616e+01,  4.0622e+01,\n",
      "         4.7330e+01,  5.6227e+01,  6.3971e+01,  7.0918e+01,  7.9581e+01,\n",
      "         8.6309e+01,  9.4798e+01,  1.0214e+02,  1.1220e+02,  1.1866e+02,\n",
      "         1.2499e+02,  1.3361e+02,  1.4135e+02,  1.4869e+02,  1.5554e+02,\n",
      "         1.6567e+02,  1.7222e+02,  1.7715e+02,  1.8478e+02,  1.9295e+02,\n",
      "         2.0099e+02,  2.1064e+02,  2.2009e+02,  2.2397e+02,  2.3817e+02,\n",
      "         2.4014e+02,  2.4962e+02,  2.5580e+02,  2.6220e+02,  2.7284e+02],\n",
      "       grad_fn=<ReshapeAliasBackward0>)\n",
      "Variance = tensor([2.9076e+03, 2.6193e+03, 2.7789e+03, 2.5904e+03, 2.1942e+03, 2.1212e+03,\n",
      "        2.0010e+03, 2.1654e+03, 1.6879e+03, 1.5054e+03, 1.5475e+03, 1.4391e+03,\n",
      "        1.4355e+03, 1.4775e+03, 1.4004e+03, 1.0568e+03, 9.9831e+02, 9.7056e+02,\n",
      "        8.1902e+02, 7.4012e+02, 7.1852e+02, 5.7504e+02, 5.8681e+02, 5.2796e+02,\n",
      "        4.9983e+02, 4.0872e+02, 3.2394e+02, 2.9634e+02, 2.5480e+02, 1.7500e+02,\n",
      "        1.5429e+02, 1.4025e+02, 1.0244e+02, 7.2253e+01, 4.9205e+01, 4.3656e+01,\n",
      "        2.9766e+01, 1.8013e+01, 8.2749e+00, 3.3548e+00, 1.0094e+00, 1.1649e+00,\n",
      "        1.0680e+00, 8.1456e-01, 5.0688e-01, 3.2286e-01, 1.7589e-01, 8.4948e-02,\n",
      "        5.8688e-02, 8.5729e-02, 1.8424e-01, 2.9621e-01, 5.3818e-01, 7.3291e-01,\n",
      "        7.1385e-01, 7.5602e-01, 8.1347e-01, 8.0451e-01, 1.0812e+00, 1.7638e+00,\n",
      "        2.6660e+00, 4.1894e+00, 5.3992e+00, 7.5076e+00, 9.8293e+00, 1.2714e+01,\n",
      "        3.7993e+01, 7.3325e+01, 1.2623e+02, 1.8663e+02, 3.1375e+02, 3.5534e+02,\n",
      "        4.7817e+02, 6.5824e+02, 6.7623e+02, 9.8233e+02, 1.0175e+03, 1.2865e+03,\n",
      "        1.2068e+03, 1.5766e+03, 2.0268e+03, 2.1013e+03, 2.4157e+03, 2.7053e+03,\n",
      "        3.2685e+03, 2.9587e+03, 3.3743e+03, 4.1999e+03, 4.5572e+03, 4.8612e+03,\n",
      "        4.6406e+03, 5.2607e+03, 5.6459e+03, 6.4831e+03, 6.0551e+03, 7.1982e+03,\n",
      "        7.6124e+03, 8.2415e+03, 9.3053e+03, 9.2514e+03],\n",
      "       grad_fn=<ReshapeAliasBackward0>)\n",
      "Noise = tensor([4.9476e+09, 2.2431e+09, 2.3758e+09, 8.7476e+08, 9.0932e+08, 6.0506e+08,\n",
      "        1.2561e+08, 9.2762e+07, 7.9428e+07, 3.0300e+07, 2.4690e+07, 9.0659e+06,\n",
      "        5.4732e+06, 2.8189e+06, 1.5717e+06, 7.0473e+05, 4.7232e+05, 2.3729e+05,\n",
      "        1.2197e+05, 6.2407e+04, 3.9770e+04, 2.9164e+04, 1.5083e+04, 6.4578e+03,\n",
      "        4.0892e+03, 2.7869e+03, 1.4419e+03, 9.5505e+02, 5.9729e+02, 4.8588e+02,\n",
      "        3.2834e+02, 2.6557e+02, 2.0219e+02, 1.7789e+02, 1.1544e+02, 6.6183e+01,\n",
      "        3.7712e+01, 2.2287e+01, 1.2560e+01, 7.3041e+00, 5.5224e+00, 6.3773e+00,\n",
      "        7.3436e+00, 9.2177e+00, 1.2801e+01, 1.7538e+01, 2.4290e+01, 3.3860e+01,\n",
      "        4.6746e+01, 6.5295e+01, 9.0519e+01, 1.2440e+02, 1.7324e+02, 1.9786e+02,\n",
      "        1.7239e+02, 1.5195e+02, 1.3286e+02, 1.1972e+02, 1.0337e+02, 8.2515e+01,\n",
      "        6.9172e+01, 5.8561e+01, 5.4443e+01, 4.9738e+01, 4.7508e+01, 4.5699e+01,\n",
      "        8.2499e+01, 1.5685e+02, 2.9065e+02, 5.7062e+02, 1.0614e+03, 2.0332e+03,\n",
      "        4.1071e+03, 8.7991e+03, 1.5995e+04, 3.2998e+04, 6.0508e+04, 1.2599e+05,\n",
      "        2.5150e+05, 5.2202e+05, 1.0690e+06, 3.0733e+06, 4.2854e+06, 1.0467e+07,\n",
      "        1.8688e+07, 4.4197e+07, 7.0106e+07, 1.6413e+08, 4.1214e+08, 7.4917e+08,\n",
      "        1.3348e+09, 2.6596e+09, 6.4968e+09, 2.2949e+10, 3.0032e+10, 5.8394e+10,\n",
      "        8.6355e+10, 2.5548e+11, 5.9492e+11, 1.7042e+12],\n",
      "       grad_fn=<ReshapeAliasBackward0>)\n",
      "rmse_mc = tensor(182.4018, grad_fn=<SqrtBackward0>)\n",
      "rmse_non_mc = tensor(182.6208, grad_fn=<SqrtBackward0>)\n",
      "test_ll_mc = tensor(-3160.7024, grad_fn=<MeanBackward0>)\n",
      "\n"
     ]
    },
    {
     "data": {
      "image/png": "[encoded data removed]",
      "text/plain": [
       "<Figure size 432x288 with 1 Axes>"
      ]
     },
     "metadata": {
      "needs_background": "light"
     },
     "output_type": "display_data"
    }
   ],
   "source": [
    "for key, network in uncertainty_methods.items():\n",
    "\n",
    "    \"\"\"\n",
    "    Testing\n",
    "    \"\"\"\n",
    "\n",
    "    # Model to eval mode\n",
    "    network.eval()\n",
    "\n",
    "    # Record testing start time (for this split)\n",
    "    tic_testing = time.time()\n",
    "    \n",
    "    predictions_non_mc, _ = network(X_test)\n",
    "\n",
    "    predictions, mean, var, noises, metrics = network.predict_dist(\n",
    "        X_test, n_predictions,\n",
    "        y_test=y_test,\n",
    "        tau=torch.tensor(tau, dtype=torch.float))\n",
    "    \n",
    "    # Record testing end time\n",
    "    toc_testing = time.time()\n",
    "    \n",
    "    # Report the total testing time\n",
    "    print(\"testing time = \" + str(toc_testing - tic_testing) + \" seconds\")\n",
    "\n",
    "    # These can now be stored in CPU memory for plotting\n",
    "    predictions_non_mc = predictions_non_mc.cpu()\n",
    "    predictions = predictions.cpu()\n",
    "    mean = mean.cpu()\n",
    "    var = var.cpu()\n",
    "    noises = noises.cpu()\n",
    "\n",
    "    total_uncertainty = var + noises\n",
    "\n",
    "    \"\"\"\n",
    "    Print results\n",
    "    \"\"\"\n",
    "\n",
    "    print()\n",
    "    print(\"Mean = \" + str(mean.flatten()))\n",
    "    print(\"Variance = \" + str(var.flatten()))\n",
    "    print(\"Noise = \" + str(noises.flatten()))\n",
    "    \n",
    "    # store additional metrics\n",
    "    if len(metrics) > 0:\n",
    "        for metric_key, value in metrics.items():\n",
    "            print(str(metric_key) + \" = \" + str(value))\n",
    "        print()\n",
    "             \n",
    "    # Plot the uncertainty measured by each methods\n",
    "    plt.figure()\n",
    "    \n",
    "    # Fix the scales of x-axis and y-axis\n",
    "    plt.xlim(dataset_toy_x_low-1, dataset_toy_x_high+1)\n",
    "    \n",
    "    plot_ylim_low = dataset_toy_x_low ** 3 - 2 * dataset_toy_y_noise_std\n",
    "    plot_ylim_high = dataset_toy_x_high ** 3 + 2 * dataset_toy_y_noise_std\n",
    "    \n",
    "    plt.ylim(plot_ylim_low, plot_ylim_high)\n",
    "    \n",
    "    # Distributions around the predictions\n",
    "    plt.fill_between(\n",
    "       X_test_cpu.flatten(), \n",
    "       (mean.detach().numpy() - 2*torch.sqrt(total_uncertainty).detach().numpy()).flatten(),\n",
    "       (mean.detach().numpy() + 2*torch.sqrt(total_uncertainty).detach().numpy()).flatten(),\n",
    "       color='lightblue', alpha=0.6, label=\"Total predictive uncertainty\")\n",
    "    \n",
    "    # epistemic\n",
    "    plt.fill_between(\n",
    "        X_test_cpu.flatten(), \n",
    "        (mean.detach().numpy() - 2*torch.sqrt(var).detach().numpy()).flatten(),\n",
    "        (mean.detach().numpy() + 2*torch.sqrt(var).detach().numpy()).flatten(),\n",
    "        color='red', alpha=0.1, label=\"Epistemic uncertainty\")\n",
    "\n",
    "    # Train data\n",
    "    plt.plot(dataset.data_x.cpu(), dataset.data_y.cpu(), 'or', label='Training data', alpha=0.3)\n",
    "\n",
    "    # Non-MC prediction\n",
    "    plt.plot(X_test_cpu, predictions_non_mc.detach().numpy(), 'green', label='non-MC prediction', alpha=0.9)    \n",
    "    \n",
    "    # MC prediction\n",
    "    plt.plot(X_test_cpu, mean.detach().numpy(), 'blue', label='mean prediction', alpha=0.7)\n",
    "    \n",
    "    # Original data generating function without noise\n",
    "    plt.plot(X_test_cpu, X_test_cpu ** 3, 'gray', label='data generating function')    \n",
    "    \n",
    "    plt.legend(loc=2, prop={'size': 8})\n",
    "    \n",
    "    plt.savefig(os.path.join(test_results_path, str(key) + '.png'), dpi=200)\n",
    "    \n",
    "    plt.show()"
   ]
  },
  {
   "cell_type": "code",
   "execution_count": null,
   "metadata": {},
   "outputs": [],
   "source": []
  }
 ],
 "metadata": {
  "accelerator": "GPU",
  "colab": {
   "collapsed_sections": [
    "Bka_bK83VFHh",
    "eEfdrHcOVFIj"
   ],
   "name": "experiment_comparison_toy.ipynb",
   "provenance": []
  },
  "kernelspec": {
   "display_name": "Python3 - ms-thesis--env",
   "language": "python",
   "name": "ipython_ms-thesis--env"
  },
  "language_info": {
   "codemirror_mode": {
    "name": "ipython",
    "version": 3
   },
   "file_extension": ".py",
   "mimetype": "text/x-python",
   "name": "python",
   "nbconvert_exporter": "python",
   "pygments_lexer": "ipython3",
   "version": "3.9.10"
  }
 },
 "nbformat": 4,
 "nbformat_minor": 4
}
